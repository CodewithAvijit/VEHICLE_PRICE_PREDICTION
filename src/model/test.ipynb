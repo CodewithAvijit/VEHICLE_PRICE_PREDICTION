{
 "cells": [
  {
   "cell_type": "code",
   "execution_count": 9,
   "id": "0775f7f2",
   "metadata": {},
   "outputs": [],
   "source": [
    "import joblib as jb\n",
    "import pandas as pd\n",
    "import numpy as np"
   ]
  },
  {
   "cell_type": "code",
   "execution_count": 10,
   "id": "2d3bbc53",
   "metadata": {},
   "outputs": [],
   "source": [
    "nameencoder = jb.load(r\"C:\\Users\\Avijit\\Desktop\\vehicle_price_prediction\\src\\data\\encoders\\nameencoder.pkl\")\n",
    "makeencoder = jb.load(r\"C:\\Users\\Avijit\\Desktop\\vehicle_price_prediction\\src\\data\\encoders\\makeencoder.pkl\")\n",
    "modelencoder = jb.load(r\"C:\\Users\\Avijit\\Desktop\\vehicle_price_prediction\\src\\data\\encoders\\modelencoder.pkl\")\n",
    "engineencoder = jb.load(r\"C:\\Users\\Avijit\\Desktop\\vehicle_price_prediction\\src\\data\\encoders\\engineencoder.pkl\")\n",
    "fuelencoder = jb.load(r\"C:\\Users\\Avijit\\Desktop\\vehicle_price_prediction\\src\\data\\encoders\\fuelencoder.pkl\")\n",
    "transmissionencoder = jb.load(r\"C:\\Users\\Avijit\\Desktop\\vehicle_price_prediction\\src\\data\\encoders\\transmissionencoder.pkl\")\n",
    "trimencoder = jb.load(r\"C:\\Users\\Avijit\\Desktop\\vehicle_price_prediction\\src\\data\\encoders\\trimencoder.pkl\")\n",
    "bodyencoder = jb.load(r\"C:\\Users\\Avijit\\Desktop\\vehicle_price_prediction\\src\\data\\encoders\\bodyencoder.pkl\")\n",
    "extcencoder = jb.load(r\"C:\\Users\\Avijit\\Desktop\\vehicle_price_prediction\\src\\data\\encoders\\extcencoder.pkl\")\n",
    "intcencoder = jb.load(r\"C:\\Users\\Avijit\\Desktop\\vehicle_price_prediction\\src\\data\\encoders\\intcencoder.pkl\")\n",
    "drivetrainencoder = jb.load(r\"C:\\Users\\Avijit\\Desktop\\vehicle_price_prediction\\src\\data\\encoders\\drivetrainencoder.pkl\")"
   ]
  },
  {
   "cell_type": "code",
   "execution_count": null,
   "id": "d83a702b",
   "metadata": {},
   "outputs": [],
   "source": [
    "name=\"2024DodgeHornetHornetR/TPlusEawd\"\n",
    "make=\"GMC\"\n",
    "modelcar=\"Compass\"\n",
    "year=2024\n",
    "engine='16VMPFIOHV'\n",
    "cylinder=9\n",
    "fuel='Gasoline'=\n",
    "mileage=30\n",
    "transmission='Automatic'\n",
    "trim='GT'\n",
    "body='SUV'\n",
    "doors=3\n",
    "extc='DiamondBlack'\n",
    "intc='Black'\n",
    "drivetrain='All-wheelDrive'"
   ]
  },
  {
   "cell_type": "code",
   "execution_count": 12,
   "id": "48c315cc",
   "metadata": {},
   "outputs": [],
   "source": [
    "namelabel=nameencoder.transform([name])[0]\n",
    "makelabel=makeencoder.transform([make])[0]\n",
    "modellabel=modelencoder.transform([modelcar])[0]\n",
    "enginelabel=engineencoder.transform([engine])[0]\n",
    "fuellabel=fuelencoder.transform([fuel])[0]\n",
    "transmissionlabel=transmissionencoder.transform([transmission])[0]\n",
    "trimlabel=trimencoder.transform([trim])[0]\n",
    "bodylabel=bodyencoder.transform([body])[0]\n",
    "extclabel=extcencoder.transform([extc])[0]\n",
    "intclabel=intcencoder.transform([intc])[0]\n",
    "drivetrainlabel=drivetrainencoder.transform([drivetrain])[0]"
   ]
  },
  {
   "cell_type": "code",
   "execution_count": null,
   "id": "fe321307",
   "metadata": {},
   "outputs": [],
   "source": [
    "input=np.array([namelabel,makelabel,modellabel,year,enginelabel,\n",
    "                cylinder,fuellabel,mileage,\n",
    "                transmissionlabel,trimlabel,bodylabel,doors,extclabel,intclabel,drivetrainlabel])\n"
   ]
  },
  {
   "cell_type": "code",
   "execution_count": 16,
   "id": "937edd93",
   "metadata": {},
   "outputs": [
    {
     "name": "stdout",
     "output_type": "stream",
     "text": [
      "CAR SPECIFICATIONS:\n",
      "CAR-NAME:  2024DodgeHornetHornetR/TPlusEawd \n",
      "MAKE:  GMC \n",
      "MODEL  Compass \n",
      "YEAR:  2024 \n",
      "ENGINE:  16VMPFIOHV \n",
      "CYLINDER:  9 \n",
      "FUEL:  Gasoline \n",
      "MILEAGE:  30 \n",
      "TRANSMISSION:  Automatic \n",
      "TRIM  GT \n",
      "BODY:  SUV \n",
      "DOORS:  3 \n",
      "EXTCOLOR:  DiamondBlack \n",
      "INTCOLOR:  Black \n",
      "DRIVETRAIN:  All-wheelDrive\n",
      "PREDICTED VEHICLE PRICE IN USD:  49012 USD\n",
      "PREDICTED VEHICLE PRICE IN USD (1 usd = 85.63 inr):  4196897 INR\n"
     ]
    }
   ],
   "source": [
    "model=jb.load(\"model.pkl\")\n",
    "print(\"CAR SPECIFICATIONS:\\nCAR-NAME: \",name,\n",
    "    \"\\nMAKE: \", make,\n",
    "    \"\\nMODEL \", modelcar,\n",
    "    \"\\nYEAR: \",year,\n",
    "    \"\\nENGINE: \",engine,\n",
    "    \"\\nCYLINDER: \" ,cylinder,\n",
    "    \"\\nFUEL: \",fuel,\n",
    "    \"\\nMILEAGE: \", mileage,\n",
    "    \"\\nTRANSMISSION: \", transmission,\n",
    "    \"\\nTRIM \",trim,\n",
    "    \"\\nBODY: \",body,\n",
    "    \"\\nDOORS: \", doors,\n",
    "    \"\\nEXTCOLOR: \",extc,\n",
    "    \"\\nINTCOLOR: \", intc,\n",
    "    \"\\nDRIVETRAIN: \", drivetrain)\n",
    "\n",
    "price=model.predict([input])[0]\n",
    "pricedollar=int(price)\n",
    "print(\"PREDICTED VEHICLE PRICE IN USD: \",pricedollar,\"USD\")\n",
    "inr=pricedollar*85.63\n",
    "inr=int(inr)\n",
    "print(\"PREDICTED VEHICLE PRICE IN USD (1 usd = 85.63 inr): \",inr,\"INR\")\n"
   ]
  }
 ],
 "metadata": {
  "kernelspec": {
   "display_name": ".venv",
   "language": "python",
   "name": "python3"
  },
  "language_info": {
   "codemirror_mode": {
    "name": "ipython",
    "version": 3
   },
   "file_extension": ".py",
   "mimetype": "text/x-python",
   "name": "python",
   "nbconvert_exporter": "python",
   "pygments_lexer": "ipython3",
   "version": "3.13.2"
  }
 },
 "nbformat": 4,
 "nbformat_minor": 5
}
