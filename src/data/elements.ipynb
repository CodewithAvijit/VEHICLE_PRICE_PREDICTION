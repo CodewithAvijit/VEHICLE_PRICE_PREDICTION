{
 "cells": [
  {
   "cell_type": "code",
   "execution_count": 13,
   "id": "38647785",
   "metadata": {},
   "outputs": [],
   "source": [
    "import joblib as jb\n",
    "import pandas as pd"
   ]
  },
  {
   "cell_type": "code",
   "execution_count": null,
   "id": "193ce97c",
   "metadata": {},
   "outputs": [],
   "source": [
    "data=pd.read_csv(r\"C:\\Users\\Avijit\\Desktop\\vehicle_price_prediction\\src\\data\\dataset_final.csv\")\n"
   ]
  },
  {
   "cell_type": "code",
   "execution_count": 20,
   "id": "7cf0f293",
   "metadata": {},
   "outputs": [],
   "source": [
    "nameencoder = jb.load(r\"C:\\Users\\Avijit\\Desktop\\vehicle_price_prediction\\src\\data\\encoders\\nameencoder.pkl\")\n",
    "makeencoder = jb.load(r\"C:\\Users\\Avijit\\Desktop\\vehicle_price_prediction\\src\\data\\encoders\\makeencoder.pkl\")\n",
    "modelencoder = jb.load(r\"C:\\Users\\Avijit\\Desktop\\vehicle_price_prediction\\src\\data\\encoders\\modelencoder.pkl\")\n",
    "engineencoder = jb.load(r\"C:\\Users\\Avijit\\Desktop\\vehicle_price_prediction\\src\\data\\encoders\\engineencoder.pkl\")\n",
    "fuelencoder = jb.load(r\"C:\\Users\\Avijit\\Desktop\\vehicle_price_prediction\\src\\data\\encoders\\fuelencoder.pkl\")\n",
    "transmissionencoder = jb.load(r\"C:\\Users\\Avijit\\Desktop\\vehicle_price_prediction\\src\\data\\encoders\\transmissionencoder.pkl\")\n",
    "trimencoder = jb.load(r\"C:\\Users\\Avijit\\Desktop\\vehicle_price_prediction\\src\\data\\encoders\\trimencoder.pkl\")\n",
    "bodyencoder = jb.load(r\"C:\\Users\\Avijit\\Desktop\\vehicle_price_prediction\\src\\data\\encoders\\bodyencoder.pkl\")\n",
    "extcencoder = jb.load(r\"C:\\Users\\Avijit\\Desktop\\vehicle_price_prediction\\src\\data\\encoders\\extcencoder.pkl\")\n",
    "intcencoder = jb.load(r\"C:\\Users\\Avijit\\Desktop\\vehicle_price_prediction\\src\\data\\encoders\\intcencoder.pkl\")\n",
    "drivetrainencoder = jb.load(r\"C:\\Users\\Avijit\\Desktop\\vehicle_price_prediction\\src\\data\\encoders\\drivetrainencoder.pkl\")\n"
   ]
  },
  {
   "cell_type": "code",
   "execution_count": 22,
   "id": "cc4c4895",
   "metadata": {},
   "outputs": [],
   "source": [
    "name_decoded = nameencoder.inverse_transform(data['name'])\n",
    "make_decoded = makeencoder.inverse_transform(data['make'])\n",
    "model_decoded = modelencoder.inverse_transform(data['model'])\n",
    "engine_decoded = engineencoder.inverse_transform(data['engine'])\n",
    "fuel_decoded = fuelencoder.inverse_transform(data['fuel'])\n",
    "transmission_decoded = transmissionencoder.inverse_transform(data['transmission'])\n",
    "trim_decoded = trimencoder.inverse_transform(data['trim'])\n",
    "body_decoded = bodyencoder.inverse_transform(data['body'])\n",
    "extc_decoded = extcencoder.inverse_transform(data['exterior_color'])\n",
    "intc_decoded = intcencoder.inverse_transform(data['interior_color'])\n",
    "drivetrain_decoded = drivetrainencoder.inverse_transform(data['drivetrain'])"
   ]
  },
  {
   "cell_type": "code",
   "execution_count": null,
   "id": "b89ed8f1",
   "metadata": {},
   "outputs": [],
   "source": [
    "decoded_df = pd.DataFrame({\n",
    "    'name': name_decoded,\n",
    "    'make': make_decoded,\n",
    "    'model': model_decoded,\n",
    "    'engine': engine_decoded,\n",
    "    'fuel': fuel_decoded,\n",
    "    'transmission': transmission_decoded,\n",
    "    'trim': trim_decoded,\n",
    "    'body': body_decoded,\n",
    "    'exterior_color': extc_decoded,\n",
    "    'interior_color': intc_decoded,\n",
    "    'drivetrain': drivetrain_decoded\n",
    "})\n"
   ]
  },
  {
   "cell_type": "code",
   "execution_count": 26,
   "id": "00f0486a",
   "metadata": {},
   "outputs": [],
   "source": [
    "decoded_df.to_string(\"input_elements/name.txt\", columns=['name'], index=False, header=False)\n",
    "decoded_df.to_string(\"input_elements/make.txt\", columns=['make'], index=False, header=False)\n",
    "decoded_df.to_string(\"input_elements/model.txt\", columns=['model'], index=False, header=False)\n",
    "decoded_df.to_string(\"input_elements/engine.txt\", columns=['engine'], index=False, header=False)\n",
    "decoded_df.to_string(\"input_elements/fuel.txt\", columns=['fuel'], index=False, header=False)\n",
    "decoded_df.to_string(\"input_elements/transmission.txt\", columns=['transmission'], index=False, header=False)\n",
    "decoded_df.to_string(\"input_elements/trim.txt\", columns=['trim'], index=False, header=False)\n",
    "decoded_df.to_string(\"input_elements/body.txt\", columns=['body'], index=False, header=False)\n",
    "decoded_df.to_string(\"input_elements/exterior_color.txt\", columns=['exterior_color'], index=False, header=False)\n",
    "decoded_df.to_string(\"input_elements/interior_color.txt\", columns=['interior_color'], index=False, header=False)\n",
    "decoded_df.to_string(\"input_elements/drivetrain.txt\", columns=['drivetrain'], index=False, header=False)\n"
   ]
  }
 ],
 "metadata": {
  "kernelspec": {
   "display_name": ".venv",
   "language": "python",
   "name": "python3"
  },
  "language_info": {
   "codemirror_mode": {
    "name": "ipython",
    "version": 3
   },
   "file_extension": ".py",
   "mimetype": "text/x-python",
   "name": "python",
   "nbconvert_exporter": "python",
   "pygments_lexer": "ipython3",
   "version": "3.13.2"
  }
 },
 "nbformat": 4,
 "nbformat_minor": 5
}
